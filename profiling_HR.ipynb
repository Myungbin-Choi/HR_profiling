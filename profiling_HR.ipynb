{
 "cells": [
  {
   "cell_type": "markdown",
   "id": "cc34364b",
   "metadata": {},
   "source": [
    "# 0. 환경설정 및 워크벤치 세팅"
   ]
  },
  {
   "cell_type": "markdown",
   "id": "c7a7e5ef",
   "metadata": {},
   "source": [
    "## 워크벤치 세팅"
   ]
  },
  {
   "cell_type": "code",
   "execution_count": null,
   "id": "f973a0bf",
   "metadata": {},
   "outputs": [],
   "source": [
    "! pip install pandas sqlalchemy pymysql -q"
   ]
  },
  {
   "cell_type": "code",
   "execution_count": null,
   "id": "379f9fe9",
   "metadata": {},
   "outputs": [],
   "source": [
    "user = 'root'\n",
    "password = 'password'\n",
    "host = 'localhost'\n",
    "port = 3306\n",
    "database = 'Kaggle_HR' "
   ]
  },
  {
   "cell_type": "code",
   "execution_count": null,
   "id": "5c8fdeb4",
   "metadata": {},
   "outputs": [],
   "source": [
    "from sqlalchemy import create_engine\n",
    "\n",
    "# 1) 커넥션 URL 생성\n",
    "url = f\"mysql+pymysql://{user}:{password}@{host}:{port}/{database}?charset=utf8mb4\"\n",
    "engine = create_engine(url)"
   ]
  },
  {
   "cell_type": "code",
   "execution_count": null,
   "id": "7f33f62c",
   "metadata": {},
   "outputs": [],
   "source": [
    "data_path = 'wfs_behaviors_and_records_508p-546d-98r_20220722173739.csv'\n",
    "hr_df = pd.read_csv(data_path, encoding='cp1252')"
   ]
  },
  {
   "cell_type": "code",
   "execution_count": null,
   "id": "fda0821f",
   "metadata": {},
   "outputs": [],
   "source": [
    "hr_df.to_sql('hr_table', engine, if_exists='append', index=False)"
   ]
  },
  {
   "cell_type": "markdown",
   "id": "3abf7bea",
   "metadata": {},
   "source": [
    "## VSCODE 세팅"
   ]
  },
  {
   "cell_type": "code",
   "execution_count": null,
   "id": "e5d7b9ee",
   "metadata": {},
   "outputs": [],
   "source": [
    "! pip install koreanize_matplotlib"
   ]
  },
  {
   "cell_type": "code",
   "execution_count": null,
   "id": "522a98a0",
   "metadata": {},
   "outputs": [],
   "source": [
    "import pandas as pd\n",
    "import numpy as np\n",
    "import matplotlib.pyplot as plt\n",
    "import seaborn as sns\n",
    "import koreanize_matplotlib"
   ]
  },
  {
   "cell_type": "code",
   "execution_count": null,
   "id": "9923d4c9",
   "metadata": {},
   "outputs": [],
   "source": [
    "data_path = 'wfs_behaviors_and_records_508p-546d-98r_20220722173739.csv'\n",
    "hr_df = pd.read_csv(data_path, encoding='cp1252')"
   ]
  },
  {
   "cell_type": "markdown",
   "id": "0444b8ec",
   "metadata": {},
   "source": [
    "# 1. 우리 회사 직원 현황"
   ]
  },
  {
   "cell_type": "code",
   "execution_count": 31,
   "id": "e2098e57",
   "metadata": {},
   "outputs": [
    {
     "data": {
      "text/html": [
       "<div>\n",
       "<style scoped>\n",
       "    .dataframe tbody tr th:only-of-type {\n",
       "        vertical-align: middle;\n",
       "    }\n",
       "\n",
       "    .dataframe tbody tr th {\n",
       "        vertical-align: top;\n",
       "    }\n",
       "\n",
       "    .dataframe thead th {\n",
       "        text-align: right;\n",
       "    }\n",
       "</style>\n",
       "<table border=\"1\" class=\"dataframe\">\n",
       "  <thead>\n",
       "    <tr style=\"text-align: right;\">\n",
       "      <th></th>\n",
       "      <th>sub_ID</th>\n",
       "      <th>sub_fname</th>\n",
       "      <th>sub_lname</th>\n",
       "      <th>sub_age</th>\n",
       "      <th>sub_sex</th>\n",
       "      <th>sub_shift</th>\n",
       "      <th>sub_team</th>\n",
       "      <th>sub_role</th>\n",
       "      <th>sub_coll_IDs</th>\n",
       "      <th>sub_colls_same_sex_prtn</th>\n",
       "      <th>...</th>\n",
       "      <th>event_weekday_num</th>\n",
       "      <th>event_weekday_name</th>\n",
       "      <th>behav_comptype_h</th>\n",
       "      <th>behav_cause_h</th>\n",
       "      <th>actual_efficacy_h</th>\n",
       "      <th>record_comptype</th>\n",
       "      <th>record_cause</th>\n",
       "      <th>recorded_efficacy</th>\n",
       "      <th>recorded_note_from_sup</th>\n",
       "      <th>record_conf_matrix_h</th>\n",
       "    </tr>\n",
       "  </thead>\n",
       "  <tbody>\n",
       "    <tr>\n",
       "      <th>0</th>\n",
       "      <td>98000001</td>\n",
       "      <td>Rebecca</td>\n",
       "      <td>Bauer</td>\n",
       "      <td>40</td>\n",
       "      <td>F</td>\n",
       "      <td>Shift 1</td>\n",
       "      <td>Team 1</td>\n",
       "      <td>Team Leader</td>\n",
       "      <td>[98000002, 98000003, 98000004, 98000005, 98000...</td>\n",
       "      <td>0.714286</td>\n",
       "      <td>...</td>\n",
       "      <td>4</td>\n",
       "      <td>Friday</td>\n",
       "      <td>Presence</td>\n",
       "      <td>NaN</td>\n",
       "      <td>NaN</td>\n",
       "      <td>Presence</td>\n",
       "      <td>NaN</td>\n",
       "      <td>NaN</td>\n",
       "      <td>NaN</td>\n",
       "      <td>NaN</td>\n",
       "    </tr>\n",
       "    <tr>\n",
       "      <th>1</th>\n",
       "      <td>98000001</td>\n",
       "      <td>Rebecca</td>\n",
       "      <td>Bauer</td>\n",
       "      <td>40</td>\n",
       "      <td>F</td>\n",
       "      <td>Shift 1</td>\n",
       "      <td>Team 1</td>\n",
       "      <td>Team Leader</td>\n",
       "      <td>[98000002, 98000003, 98000004, 98000005, 98000...</td>\n",
       "      <td>0.714286</td>\n",
       "      <td>...</td>\n",
       "      <td>4</td>\n",
       "      <td>Friday</td>\n",
       "      <td>Efficacy</td>\n",
       "      <td>NaN</td>\n",
       "      <td>1.489</td>\n",
       "      <td>Efficacy</td>\n",
       "      <td>NaN</td>\n",
       "      <td>1.2</td>\n",
       "      <td>NaN</td>\n",
       "      <td>NaN</td>\n",
       "    </tr>\n",
       "  </tbody>\n",
       "</table>\n",
       "<p>2 rows × 42 columns</p>\n",
       "</div>"
      ],
      "text/plain": [
       "     sub_ID sub_fname sub_lname  sub_age sub_sex sub_shift sub_team  \\\n",
       "0  98000001   Rebecca     Bauer       40       F   Shift 1   Team 1   \n",
       "1  98000001   Rebecca     Bauer       40       F   Shift 1   Team 1   \n",
       "\n",
       "      sub_role                                       sub_coll_IDs  \\\n",
       "0  Team Leader  [98000002, 98000003, 98000004, 98000005, 98000...   \n",
       "1  Team Leader  [98000002, 98000003, 98000004, 98000005, 98000...   \n",
       "\n",
       "   sub_colls_same_sex_prtn  ...  event_weekday_num  event_weekday_name  \\\n",
       "0                 0.714286  ...                  4              Friday   \n",
       "1                 0.714286  ...                  4              Friday   \n",
       "\n",
       "   behav_comptype_h  behav_cause_h  actual_efficacy_h  record_comptype  \\\n",
       "0          Presence            NaN                NaN         Presence   \n",
       "1          Efficacy            NaN              1.489         Efficacy   \n",
       "\n",
       "   record_cause  recorded_efficacy recorded_note_from_sup  \\\n",
       "0           NaN                NaN                    NaN   \n",
       "1           NaN                1.2                    NaN   \n",
       "\n",
       "   record_conf_matrix_h  \n",
       "0                   NaN  \n",
       "1                   NaN  \n",
       "\n",
       "[2 rows x 42 columns]"
      ]
     },
     "execution_count": 31,
     "metadata": {},
     "output_type": "execute_result"
    }
   ],
   "source": [
    "hr_df.head(2)"
   ]
  },
  {
   "cell_type": "code",
   "execution_count": null,
   "id": "aa631fc4",
   "metadata": {},
   "outputs": [
    {
     "name": "stdout",
     "output_type": "stream",
     "text": [
      "전체 인원: 687명\n",
      "나이 평균: 41.4\n",
      "여성 직원 수: 359명\n",
      "남성 직원 수: 328명\n"
     ]
    }
   ],
   "source": [
    "# 직원 기초 현황\n",
    "unique_df = hr_df.drop_duplicates(subset='sub_ID')\n",
    "\n",
    "total_count = unique_df['sub_ID'].nunique()\n",
    "avg_age = unique_df['sub_age'].mean()\n",
    "total_female = (unique_df['sub_sex'] == 'F').sum()  # () 조건이 참인 경우 1\n",
    "total_male = (unique_df['sub_sex'] == 'M').sum()\n",
    "\n",
    "print(f'전체 인원: {total_count}명')\n",
    "print(f'나이 평균: {avg_age:.1f}')\n",
    "print(f'여성 직원 수: {total_female}명')\n",
    "print(f'남성 직원 수: {total_male}명')"
   ]
  },
  {
   "cell_type": "code",
   "execution_count": 59,
   "id": "db38b80e",
   "metadata": {},
   "outputs": [
    {
     "data": {
      "text/plain": [
       "Index(['sub_ID', 'sub_fname', 'sub_lname', 'sub_age', 'sub_sex', 'sub_shift',\n",
       "       'sub_team', 'sub_role', 'sub_coll_IDs', 'sub_colls_same_sex_prtn',\n",
       "       'sub_health_h', 'sub_commitment_h', 'sub_perceptiveness_h',\n",
       "       'sub_dexterity_h', 'sub_sociality_h', 'sub_goodness_h',\n",
       "       'sub_strength_h', 'sub_openmindedness_h', 'sub_workstyle_h', 'sup_ID',\n",
       "       'sup_fname', 'sup_lname', 'sup_age', 'sup_sub_age_diff', 'sup_sex',\n",
       "       'sup_role', 'sup_commitment_h', 'sup_perceptiveness_h',\n",
       "       'sup_goodness_h', 'event_date', 'event_week_in_series',\n",
       "       'event_day_in_series', 'event_weekday_num', 'event_weekday_name',\n",
       "       'behav_comptype_h', 'behav_cause_h', 'actual_efficacy_h',\n",
       "       'record_comptype', 'record_cause', 'recorded_efficacy',\n",
       "       'recorded_note_from_sup', 'record_conf_matrix_h'],\n",
       "      dtype='object')"
      ]
     },
     "execution_count": 59,
     "metadata": {},
     "output_type": "execute_result"
    }
   ],
   "source": [
    "hr_df.columns"
   ]
  },
  {
   "cell_type": "code",
   "execution_count": 63,
   "id": "f770d3a5",
   "metadata": {},
   "outputs": [
    {
     "name": "stdout",
     "output_type": "stream",
     "text": [
      "우리 회사의 직원 역량 평균\n",
      "건강: 0.743\n",
      "헌신도: 0.747\n",
      "인지력: 0.742\n",
      "손재주: 0.736\n",
      "사회성: 0.740\n",
      "선량함: 0.740\n",
      "힘: 0.740\n",
      "수용성: 0.754\n"
     ]
    }
   ],
   "source": [
    "# 직원 역량 평균 확인\n",
    "avg_health = unique_df['sub_health_h'].mean()\n",
    "avg_commitment = unique_df['sub_commitment_h'].mean()\n",
    "avg_perceptiveness = unique_df['sub_perceptiveness_h'].mean()\n",
    "avg_dexterity = unique_df['sub_dexterity_h'].mean()\n",
    "avg_sociality = unique_df['sub_sociality_h'].mean()\n",
    "avg_goodness = unique_df['sub_goodness_h'].mean()\n",
    "avg_strength = unique_df['sub_strength_h'].mean()\n",
    "avg_openmindness = unique_df['sub_openmindedness_h'].mean()\n",
    "\n",
    "print('우리 회사의 직원 역량 평균')\n",
    "print(f'건강: {avg_health:.3f}')\n",
    "print(f'헌신도: {avg_commitment:.3f}')\n",
    "print(f'인지력: {avg_perceptiveness:.3f}')\n",
    "print(f'손재주: {avg_dexterity:.3f}')\n",
    "print(f'사회성: {avg_sociality:.3f}')\n",
    "print(f'선량함: {avg_goodness:.3f}')\n",
    "print(f'힘: {avg_strength:.3f}')\n",
    "print(f'수용성: {avg_openmindness:.3f}')"
   ]
  },
  {
   "cell_type": "code",
   "execution_count": null,
   "id": "b9955585",
   "metadata": {},
   "outputs": [
    {
     "name": "stdout",
     "output_type": "stream",
     "text": [
      "         shift        team  인원수      평균 나이  여성  남성\n",
      "0      Shift 1      Team 1   29  37.965517  12  17\n",
      "1      Shift 1      Team 2   26  45.884615  15  11\n",
      "2      Shift 1      Team 3   28  40.392857  16  12\n",
      "3      Shift 1      Team 4   28  38.321429  14  14\n",
      "4      Shift 1      Team 5   27  41.666667  15  12\n",
      "5      Shift 1      Team 6   31  41.612903  17  14\n",
      "6      Shift 1      Team 7   25  40.120000  12  13\n",
      "7      Shift 1      Team 8   31  45.129032  13  18\n",
      "8      Shift 1  unassigned    1  24.000000   1   0\n",
      "9      Shift 2     Team 10   27  42.333333  10  17\n",
      "10     Shift 2     Team 11   30  43.933333  19  11\n",
      "11     Shift 2     Team 12   34  45.676471  25   9\n",
      "12     Shift 2     Team 13   25  39.560000  18   7\n",
      "13     Shift 2     Team 14   31  39.290323  12  19\n",
      "14     Shift 2     Team 15   31  37.709677  14  17\n",
      "15     Shift 2     Team 16   26  41.230769  12  14\n",
      "16     Shift 2      Team 9   25  40.600000  12  13\n",
      "17     Shift 2  unassigned    1  23.000000   0   1\n",
      "18     Shift 3     Team 17   28  44.107143  12  16\n",
      "19     Shift 3     Team 18   29  42.827586  12  17\n",
      "20     Shift 3     Team 19   28  40.821429  13  15\n",
      "21     Shift 3     Team 20   24  39.208333  13  11\n",
      "22     Shift 3     Team 21   32  40.875000  17  15\n",
      "23     Shift 3     Team 22   28  44.250000  19   9\n",
      "24     Shift 3     Team 23   33  40.030303  19  14\n",
      "25     Shift 3     Team 24   27  40.370370  16  11\n",
      "26     Shift 3  unassigned    1  54.000000   1   0\n",
      "27  unassigned  unassigned    1  38.000000   0   1\n"
     ]
    }
   ],
   "source": [
    "# shift, team 별 현황\n",
    "shift_info = unique_df.groupby(['sub_shift', 'sub_team']).agg({\n",
    "\t'sub_ID': 'nunique',\n",
    "\t'sub_age' : 'mean',\n",
    "  \t'sub_sex': [\n",
    "    \t('여성', lambda x: (x=='F').sum()),\n",
    "   \t\t('남성', lambda x: (x=='M').sum())\n",
    "  ]\n",
    "})\n",
    "\n",
    "shift_info.reset_index(inplace=True)\n",
    "shift_info.columns = ['shift', 'team', '인원수', '평균 나이', '여성', '남성']\n",
    "print(shift_info)"
   ]
  },
  {
   "cell_type": "code",
   "execution_count": 66,
   "id": "03694fcd",
   "metadata": {},
   "outputs": [
    {
     "name": "stdout",
     "output_type": "stream",
     "text": [
      "         shift        team        건강       헌신도       인지력       손재주       사회성  \\\n",
      "0      Shift 1      Team 1  0.706310  0.757172  0.714207  0.739103  0.783621   \n",
      "1      Shift 1      Team 2  0.727346  0.660654  0.674038  0.745115  0.783962   \n",
      "2      Shift 1      Team 3  0.756571  0.757321  0.760000  0.783643  0.735607   \n",
      "3      Shift 1      Team 4  0.708107  0.754214  0.783214  0.730643  0.721250   \n",
      "4      Shift 1      Team 5  0.714148  0.770222  0.783667  0.750630  0.734704   \n",
      "5      Shift 1      Team 6  0.698871  0.775710  0.722516  0.702323  0.698161   \n",
      "6      Shift 1      Team 7  0.675120  0.761960  0.738920  0.711280  0.776720   \n",
      "7      Shift 1      Team 8  0.762032  0.729129  0.746548  0.766097  0.741032   \n",
      "8      Shift 1  unassigned  0.983000  0.842000  0.948000  0.836000  0.830000   \n",
      "9      Shift 2     Team 10  0.719259  0.781593  0.764444  0.750185  0.694630   \n",
      "10     Shift 2     Team 11  0.781733  0.756333  0.728867  0.691733  0.720867   \n",
      "11     Shift 2     Team 12  0.719029  0.753235  0.789353  0.748500  0.717676   \n",
      "12     Shift 2     Team 13  0.755800  0.724360  0.787200  0.737200  0.766160   \n",
      "13     Shift 2     Team 14  0.788000  0.694742  0.717742  0.766710  0.748806   \n",
      "14     Shift 2     Team 15  0.769065  0.744484  0.732742  0.701774  0.744871   \n",
      "15     Shift 2     Team 16  0.754500  0.795385  0.746885  0.739846  0.754385   \n",
      "16     Shift 2      Team 9  0.780160  0.775360  0.712200  0.720640  0.740480   \n",
      "17     Shift 2  unassigned  0.949000  0.864000  0.979000  0.648000  0.459000   \n",
      "18     Shift 3     Team 17  0.794036  0.730679  0.741179  0.692571  0.754536   \n",
      "19     Shift 3     Team 18  0.713862  0.744345  0.755862  0.739207  0.750276   \n",
      "20     Shift 3     Team 19  0.753607  0.792179  0.751000  0.740786  0.751929   \n",
      "21     Shift 3     Team 20  0.741333  0.725292  0.780708  0.775792  0.719792   \n",
      "22     Shift 3     Team 21  0.741594  0.719969  0.712750  0.728906  0.744125   \n",
      "23     Shift 3     Team 22  0.750821  0.749929  0.694857  0.713357  0.731893   \n",
      "24     Shift 3     Team 23  0.748758  0.743182  0.730939  0.795879  0.725636   \n",
      "25     Shift 3     Team 24  0.733556  0.720111  0.730259  0.707741  0.730815   \n",
      "26     Shift 3  unassigned  0.950000  0.966000  0.802000  0.544000  0.781000   \n",
      "27  unassigned  unassigned  0.976000  0.903000  0.946000  0.557000  0.672000   \n",
      "\n",
      "         선량함         힘       수용성  \n",
      "0   0.713586  0.718690  0.712552  \n",
      "1   0.743692  0.706692  0.765885  \n",
      "2   0.757964  0.712286  0.768571  \n",
      "3   0.738893  0.774179  0.706750  \n",
      "4   0.692296  0.724556  0.735222  \n",
      "5   0.745484  0.716645  0.777323  \n",
      "6   0.722240  0.743680  0.785760  \n",
      "7   0.759452  0.748065  0.709290  \n",
      "8   0.971000  0.795000  0.917000  \n",
      "9   0.767259  0.762630  0.758667  \n",
      "10  0.722200  0.799200  0.782500  \n",
      "11  0.756441  0.752088  0.720971  \n",
      "12  0.744720  0.711480  0.745320  \n",
      "13  0.702806  0.775935  0.788097  \n",
      "14  0.746032  0.753871  0.759710  \n",
      "15  0.747654  0.692038  0.731769  \n",
      "16  0.777920  0.736280  0.743120  \n",
      "17  0.941000  0.615000  0.680000  \n",
      "18  0.749286  0.761821  0.755429  \n",
      "19  0.682172  0.712966  0.761690  \n",
      "20  0.758429  0.745964  0.798393  \n",
      "21  0.717875  0.735042  0.759458  \n",
      "22  0.734875  0.754312  0.765813  \n",
      "23  0.755929  0.736500  0.721286  \n",
      "24  0.747394  0.747091  0.767394  \n",
      "25  0.754259  0.716852  0.791148  \n",
      "26  0.931000  0.578000  0.624000  \n",
      "27  0.936000  0.652000  0.524000  \n"
     ]
    }
   ],
   "source": [
    "# shift, team 별 역량 평균\n",
    "shift_info = unique_df.groupby(['sub_shift', 'sub_team']).agg({\n",
    "  'sub_health_h':'mean',\n",
    "  'sub_commitment_h' :'mean',\n",
    "  'sub_perceptiveness_h':'mean',\n",
    "  'sub_dexterity_h':'mean',\n",
    "  'sub_sociality_h':'mean',\n",
    "  'sub_goodness_h':'mean',\n",
    "  'sub_strength_h':'mean',\n",
    "  'sub_openmindedness_h':'mean'\n",
    "})\n",
    "\n",
    "shift_info.reset_index(inplace=True)\n",
    "shift_info.columns = ['shift', 'team', '건강', '헌신도', '인지력', '손재주', '사회성', '선량함', '힘', '수용성']\n",
    "print(shift_info)"
   ]
  },
  {
   "cell_type": "code",
   "execution_count": null,
   "id": "448eae91",
   "metadata": {},
   "outputs": [],
   "source": []
  }
 ],
 "metadata": {
  "kernelspec": {
   "display_name": "codeit_env",
   "language": "python",
   "name": "python3"
  },
  "language_info": {
   "codemirror_mode": {
    "name": "ipython",
    "version": 3
   },
   "file_extension": ".py",
   "mimetype": "text/x-python",
   "name": "python",
   "nbconvert_exporter": "python",
   "pygments_lexer": "ipython3",
   "version": "3.12.9"
  }
 },
 "nbformat": 4,
 "nbformat_minor": 5
}
